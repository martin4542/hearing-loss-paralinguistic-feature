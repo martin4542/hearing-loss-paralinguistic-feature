{
 "cells": [
  {
   "cell_type": "code",
   "execution_count": 12,
   "metadata": {},
   "outputs": [],
   "source": [
    "import numpy as np\n",
    "import parselmouth\n",
    "from parselmouth.praat import call"
   ]
  },
  {
   "cell_type": "code",
   "execution_count": 31,
   "metadata": {},
   "outputs": [],
   "source": [
    "def feature_extract(voiceID, f0min, f0max, unit):\n",
    "    sound = parselmouth.Sound(voiceID)\n",
    "    duration = call(sound, \"Get total duration\") # get duration\n",
    "    pitch = call(sound, \"To Pitch\", 0.0, f0min, f0max) # create praat pitch object\n",
    "    meanF0 = call(pitch, \"Get mean\", 0, 0, unit) # get mean pitch\n",
    "    stdevF0 = call(pitch, \"Get standard deviation\", 0, 0, unit) # get standard deviation\n",
    "    pointProcess = call(sound, \"To PointProcess (periodic, cc)\", f0min, f0max)\n",
    "    localJitter = call(pointProcess, \"Get jitter (local)\", 0, 0, 0.0001, 0.02, 1.3) # local jitter (%)\n",
    "    localabsoluteJitter = call(pointProcess, \"Get jitter (local, absolute)\", 0, 0, 0.0001, 0.02, 1.3) # local absolute jitter (s)\n",
    "    rapJitter = call(pointProcess, \"Get jitter (rap)\", 0, 0, 0.0001, 0.02, 1.3) # rap jitter\n",
    "    ppq5Jitter = call(pointProcess, \"Get jitter (ppq5)\", 0, 0, 0.0001, 0.02, 1.3) # ppq5 jitter \n",
    "    localShimmer = call([sound, pointProcess], 'Get shimmer (local)', 0, 0, 0.0001, 0.02, 1.3, 1.6)\n",
    "    localdbShimmer = call([sound, pointProcess], 'Get shimmer (local_dB)', 0, 0, 0.0001, 0.02, 1.3, 1.6)\n",
    "    apq11Shimmer = call([sound, pointProcess], \"Get shimmer (apq11)\", 0, 0, 0.0001, 0.02, 1.3, 1.6)\n",
    "    harmonicity = call(sound, \"To Harmonicity (cc)\", 0.01, f0min, 0.1, 4.5)\n",
    "    hnr = call(harmonicity, \"Get mean\", 0, 0)\n",
    "    \n",
    "    # to percent\n",
    "    localJitter *= 100. \n",
    "    rapJitter *= 100\n",
    "    ppq5Jitter *= 100\n",
    "    localShimmer *= 100\n",
    "    apq11Shimmer *= 100\n",
    "    \n",
    "    return duration, meanF0, stdevF0, localJitter, localabsoluteJitter, rapJitter, ppq5Jitter, localShimmer, localdbShimmer, apq11Shimmer, hnr"
   ]
  },
  {
   "cell_type": "code",
   "execution_count": 34,
   "metadata": {},
   "outputs": [],
   "source": [
    "src = 'train_data/mild/1/chapter1.wav'\n",
    "src = 'C:/Users/jae/Music/hearing_loss_split/mild/7/chapter1.wav'\n",
    "sound = parselmouth.Sound(src)\n",
    "A = feature_extract(sound, 75, 1000, \"Hertz\")"
   ]
  },
  {
   "cell_type": "code",
   "execution_count": 35,
   "metadata": {},
   "outputs": [
    {
     "name": "stdout",
     "output_type": "stream",
     "text": [
      "(15.564444444444444, 248.15835100394648, 48.964759586498786, 0.23595393061140862, 9.524669341792474e-06, 0.11666211308024407, 0.12221838642286278, 0.030910566509951904, 28.261161457376012, 3.6927855212913037, 20.422202343985752)\n"
     ]
    }
   ],
   "source": [
    "normal_feat = []\n",
    "mild_feat = []\n",
    "severe_feat = []\n",
    "\n"
   ]
  },
  {
   "cell_type": "code",
   "execution_count": null,
   "metadata": {},
   "outputs": [],
   "source": []
  }
 ],
 "metadata": {
  "kernelspec": {
   "display_name": "pytorch",
   "language": "python",
   "name": "pytorch"
  },
  "language_info": {
   "codemirror_mode": {
    "name": "ipython",
    "version": 3
   },
   "file_extension": ".py",
   "mimetype": "text/x-python",
   "name": "python",
   "nbconvert_exporter": "python",
   "pygments_lexer": "ipython3",
   "version": "3.8.8"
  },
  "orig_nbformat": 4
 },
 "nbformat": 4,
 "nbformat_minor": 2
}
