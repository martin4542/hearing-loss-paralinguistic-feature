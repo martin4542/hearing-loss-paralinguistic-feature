{
 "cells": [
  {
   "cell_type": "code",
   "execution_count": 1,
   "metadata": {},
   "outputs": [],
   "source": [
    "import os\n",
    "import opensmile\n",
    "import numpy as np\n",
    "import sklearn.svm as svm"
   ]
  },
  {
   "cell_type": "code",
   "execution_count": 2,
   "metadata": {},
   "outputs": [],
   "source": [
    "def extract_audio_feature(dir):\n",
    "    features = []\n",
    "    smile = opensmile.Smile(\n",
    "        feature_set = opensmile.FeatureSet.ComParE_2016,\n",
    "        feature_level = opensmile.FeatureLevel.Functionals\n",
    "    )\n",
    "    folders = os.listdir(dir)\n",
    "    for folder in folders:\n",
    "        for i in range(1, 4):\n",
    "            audio_file = os.path.join(dir, folder, \"chapter\"+str(i)+\".wav\")\n",
    "            temp = smile.process_file(audio_file)\n",
    "            temp = np.array(temp)\n",
    "            features.append(temp)\n",
    "    return features"
   ]
  },
  {
   "cell_type": "code",
   "execution_count": 3,
   "metadata": {},
   "outputs": [],
   "source": [
    "labels = ['normal', 'mild', 'severe', 'high']\n",
    "\n",
    "src_dir = 'train_data'\n",
    "normal_feat = []\n",
    "mild_feat = []\n",
    "severe_feat = []\n",
    "high_feat = []\n",
    "\n",
    "normal_feat = extract_audio_feature(os.path.join(src_dir, labels[0]))\n",
    "mild_feat = extract_audio_feature(os.path.join(src_dir, labels[1]))\n",
    "severe_feat = extract_audio_feature(os.path.join(src_dir, labels[2]))\n",
    "high_feat = extract_audio_feature(os.path.join(src_dir, labels[3]))\n",
    "\n",
    "normal_feat = np.array(normal_feat).squeeze()\n",
    "mild_feat = np.array(mild_feat).squeeze()\n",
    "severe_feat = np.array(severe_feat).squeeze()\n",
    "high_feat = np.array(high_feat).squeeze()"
   ]
  },
  {
   "cell_type": "code",
   "execution_count": 4,
   "metadata": {},
   "outputs": [],
   "source": [
    "X = np.append(normal_feat, mild_feat, axis=0)\n",
    "X = np.append(X, severe_feat, axis=0)\n",
    "X = np.append(X, high_feat, axis=0)\n",
    "\n",
    "Y = np.zeros(shape=(X.shape[0],))\n",
    "for i in range(len(Y)):\n",
    "    if i < len(normal_feat):\n",
    "        Y[i] = 1\n",
    "    elif i < len(normal_feat) + len(mild_feat):\n",
    "        Y[i] = 2\n",
    "    elif i < len(normal_feat) + len(mild_feat) + len(severe_feat):\n",
    "        Y[i] = 3\n",
    "    else:\n",
    "        Y[i] = 4"
   ]
  },
  {
   "cell_type": "code",
   "execution_count": 11,
   "metadata": {},
   "outputs": [
    {
     "data": {
      "text/plain": [
       "SVC()"
      ]
     },
     "execution_count": 11,
     "metadata": {},
     "output_type": "execute_result"
    }
   ],
   "source": [
    "# linear kernel\n",
    "C = 1 # SVM regularization parameter\n",
    "#clf = svm.SVC(kernel=\"linear\", C=C)\n",
    "clf = svm.SVC(kernel=\"rbf\", C=C, max_iter=10000)\n",
    "clf = svm.SVC()\n",
    "clf.fit(X,Y)"
   ]
  },
  {
   "cell_type": "code",
   "execution_count": 12,
   "metadata": {},
   "outputs": [
    {
     "data": {
      "text/plain": [
       "array([[26,  0, 25,  0],\n",
       "       [18,  0, 39,  0],\n",
       "       [21,  0, 45,  0],\n",
       "       [ 7,  0,  8,  0]], dtype=int64)"
      ]
     },
     "execution_count": 12,
     "metadata": {},
     "output_type": "execute_result"
    }
   ],
   "source": [
    "# confusion matrix\n",
    "from sklearn.metrics import confusion_matrix\n",
    "y_pred = clf.predict(X)\n",
    "confusion_matrix(Y, y_pred)"
   ]
  },
  {
   "cell_type": "code",
   "execution_count": null,
   "metadata": {},
   "outputs": [],
   "source": []
  }
 ],
 "metadata": {
  "interpreter": {
   "hash": "a51020773e7acc815bf9cd087b7db19c59aac7ba76518958a3ecd27fbf725693"
  },
  "kernelspec": {
   "display_name": "Python 3.8.8 ('pytorch')",
   "language": "python",
   "name": "python3"
  },
  "language_info": {
   "codemirror_mode": {
    "name": "ipython",
    "version": 3
   },
   "file_extension": ".py",
   "mimetype": "text/x-python",
   "name": "python",
   "nbconvert_exporter": "python",
   "pygments_lexer": "ipython3",
   "version": "3.8.8"
  },
  "orig_nbformat": 4
 },
 "nbformat": 4,
 "nbformat_minor": 2
}
